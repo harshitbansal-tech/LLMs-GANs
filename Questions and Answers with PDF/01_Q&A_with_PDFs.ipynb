{
 "cells": [
  {
   "cell_type": "code",
   "execution_count": null,
   "id": "6935e281-e949-4e05-8002-1e3b09ddd612",
   "metadata": {},
   "outputs": [],
   "source": [
    "!pip install PyPDF2\n",
    "!pip install tiktoken\n",
    "!pip install faiss-cpu\n",
    "!pip install openai"
   ]
  },
  {
   "cell_type": "code",
   "execution_count": null,
   "id": "efda525f-ac1c-4262-ad8c-273141802eec",
   "metadata": {},
   "outputs": [],
   "source": [
    "from PyPDF2 import PdfReader\n",
    "from langchain.embeddings.openai import OpenAIEmbeddings\n",
    "from langchain.text_splitter import CharacterTextSplitter\n",
    "from langchain.vectorstores import ElasticVectorSearch, Pinecone, Weaviate, FAISS"
   ]
  },
  {
   "cell_type": "code",
   "execution_count": null,
   "id": "470d70b7-d33b-4e61-85b2-68c701aacd19",
   "metadata": {},
   "outputs": [],
   "source": [
    "import os\n",
    "os.environ['OPENAI_API_TOKEN'] = \" \""
   ]
  },
  {
   "cell_type": "code",
   "execution_count": null,
   "id": "574aa3e0-5ac8-42bc-8dce-dba1bdd2a19d",
   "metadata": {},
   "outputs": [],
   "source": [
    "from pathlib import Path\n",
    "\n",
    "pdf_input = Path(input(\"Enter the Path of PDF as an input : \").replace(\"\\\\\", \"/\"))\n",
    "reader = PdfReader(str(pdf_input))"
   ]
  },
  {
   "cell_type": "code",
   "execution_count": null,
   "id": "153baf6c-a6d7-4777-ba38-89f3dabd1801",
   "metadata": {},
   "outputs": [],
   "source": [
    "raw_text = ''\n",
    "\n",
    "for i, page in enumerate(reader.pages):\n",
    "    text = page.extract_text()\n",
    "    if text:\n",
    "        raw_text += text"
   ]
  },
  {
   "cell_type": "code",
   "execution_count": null,
   "id": "9a2452bf-fd0c-45ad-92e2-abd71508e71e",
   "metadata": {},
   "outputs": [],
   "source": [
    "raw_text"
   ]
  },
  {
   "cell_type": "code",
   "execution_count": null,
   "id": "eff2dc16-f9f0-43c6-b78c-67c9a346db08",
   "metadata": {},
   "outputs": [],
   "source": [
    "textsplitter = CharacterTextSplitter(\n",
    "    separator = \"\\n\",\n",
    "    chunk_size = 1000,\n",
    "    chunk_overlap = 200,\n",
    "    length_function = len\n",
    ")"
   ]
  },
  {
   "cell_type": "code",
   "execution_count": null,
   "id": "5ae02e7f-203e-476c-9d25-de3eb5df6532",
   "metadata": {},
   "outputs": [],
   "source": [
    "texts = textsplitter.split_text(raw_text)"
   ]
  },
  {
   "cell_type": "code",
   "execution_count": null,
   "id": "13c07ebe-5cb8-428e-b28f-1c22ec33de7c",
   "metadata": {},
   "outputs": [],
   "source": [
    "len(texts)"
   ]
  },
  {
   "cell_type": "code",
   "execution_count": null,
   "id": "af335176-ce00-48ae-9669-c934c434a29a",
   "metadata": {},
   "outputs": [],
   "source": [
    "embeddings = OpenAIEmbeddings()"
   ]
  },
  {
   "cell_type": "code",
   "execution_count": null,
   "id": "874693ac-8ca9-4d5a-bfc2-a10352d92e99",
   "metadata": {},
   "outputs": [],
   "source": [
    "docsearch = FAISS.from_texts(texts, embeddings)"
   ]
  },
  {
   "cell_type": "code",
   "execution_count": null,
   "id": "8b834325-66a4-4191-be16-d5109425f836",
   "metadata": {},
   "outputs": [],
   "source": [
    "from langchain.chains.question_answering import load_qa_chain\n",
    "from langchain.llms import OpenAI"
   ]
  },
  {
   "cell_type": "code",
   "execution_count": null,
   "id": "5a926af6-ddb6-4a0e-8dac-8dec7fd9d6d3",
   "metadata": {},
   "outputs": [],
   "source": [
    "chain = load_qa_chain(OpenAI(), chain_type = \"stuff\")"
   ]
  },
  {
   "cell_type": "code",
   "execution_count": null,
   "id": "ab21bf64-7a02-4b5a-a185-ca753d756b2b",
   "metadata": {},
   "outputs": [],
   "source": [
    "query = str(input(\"Type your Question : \"))\n",
    "docs = docsearch.similarity_search(query)\n",
    "chain.run(input_documents = docs, question = query)"
   ]
  }
 ],
 "metadata": {
  "kernelspec": {
   "display_name": "Python 3 (ipykernel)",
   "language": "python",
   "name": "python3"
  },
  "language_info": {
   "codemirror_mode": {
    "name": "ipython",
    "version": 3
   },
   "file_extension": ".py",
   "mimetype": "text/x-python",
   "name": "python",
   "nbconvert_exporter": "python",
   "pygments_lexer": "ipython3",
   "version": "3.10.11"
  }
 },
 "nbformat": 4,
 "nbformat_minor": 5
}
